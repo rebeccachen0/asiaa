{
 "cells": [
  {
   "cell_type": "code",
   "execution_count": 29,
   "metadata": {
    "collapsed": true
   },
   "outputs": [],
   "source": [
    "import numpy as np\n",
    "import scipy.optimize as op\n",
    "import datetime\n",
    "import emcee\n",
    "import matplotlib.pyplot as plt\n",
    "import corner\n",
    "from scipy.stats import norm, halfnorm\n",
    "%matplotlib inline"
   ]
  },
  {
   "cell_type": "code",
   "execution_count": 30,
   "metadata": {
    "collapsed": true
   },
   "outputs": [],
   "source": [
    "mars = np.genfromtxt('harp_mars.dat', usecols=np.arange(0, 9))\n",
    "jupiter = np.genfromtxt('harp_jupiter.dat', usecols=np.arange(0, 8))\n",
    "uranus = np.genfromtxt('harp_uranus.dat', usecols=np.arange(0, 8))"
   ]
  },
  {
   "cell_type": "code",
   "execution_count": 31,
   "metadata": {
    "collapsed": true
   },
   "outputs": [],
   "source": [
    "mars_etamb = mars[:,5]\n",
    "jupiter_etamb = jupiter[:,5]\n",
    "uranus_etamb = uranus[:,5]\n",
    "\n",
    "mars_dates = mars[:,0]\n",
    "jupiter_dates = jupiter[:,0]\n",
    "uranus_dates = uranus[:,0]\n",
    "\n",
    "mars = mars[mars[:,1] > 5]\n",
    "mars = mars[mars[:,1] < 19]\n",
    "mars = mars[mars[:,5] > 0]\n",
    "jupiter = jupiter[jupiter[:,1] > 5]\n",
    "jupiter = jupiter[jupiter[:,1] < 19]\n",
    "jupiter = jupiter[jupiter[:,5] > 0]\n",
    "uranus = uranus[uranus[:,1] > 5]\n",
    "uranus = uranus[uranus[:,1] < 19]\n",
    "uranus = uranus[uranus[:,5] > 0]\n",
    "\n",
    "planets_etamb = np.concatenate((mars_etamb, jupiter_etamb, uranus_etamb), axis=0)\n",
    "raw_dates = np.concatenate((mars_dates, jupiter_dates, uranus_dates), axis=0)\n",
    "dates = [datetime.datetime.strptime(str(int(date)),'%Y%m%d') for date in raw_dates]"
   ]
  },
  {
   "cell_type": "code",
   "execution_count": 32,
   "metadata": {
    "collapsed": true
   },
   "outputs": [],
   "source": [
    "oldest = min(dates)\n",
    "days = np.array([np.float64((date - oldest).days) + 1 for date in dates])"
   ]
  },
  {
   "cell_type": "code",
   "execution_count": 33,
   "metadata": {
    "collapsed": true
   },
   "outputs": [],
   "source": [
    "m_true = 0.0\n",
    "b_true = .5\n",
    "\n",
    "lnyerr_true = -2.3\n",
    "lnV_true = -1.6"
   ]
  },
  {
   "cell_type": "code",
   "execution_count": 34,
   "metadata": {
    "collapsed": true
   },
   "outputs": [],
   "source": [
    "def lnlike(theta, x, y):\n",
    "    m, b, lnyerr, lnV = theta\n",
    "    #print(m, b, lnyerr, lnV)\n",
    "    angle = np.arctan(m)\n",
    "    delt = -np.sin(angle)*x + np.cos(angle)*y - b*np.cos(angle)\n",
    "    sigsq = (np.exp(lnyerr)*y)**2 * np.cos(angle)**2\n",
    "    return -np.sum(0.5*np.log(sigsq + np.exp(lnV))) - \\\n",
    "            np.sum(0.5*(delt**2)/(sigsq + np.exp(lnV)))"
   ]
  },
  {
   "cell_type": "code",
   "execution_count": 35,
   "metadata": {
    "collapsed": true
   },
   "outputs": [],
   "source": [
    "nll = lambda *args: -lnlike(*args)\n",
    "result = op.minimize(nll, [m_true, b_true, lnyerr_true, lnV_true], args=(days, planets_etamb))\n",
    "m_ml, b_ml, lnyerr_ml, lnV_ml= result[\"x\"]"
   ]
  },
  {
   "cell_type": "code",
   "execution_count": 36,
   "metadata": {},
   "outputs": [
    {
     "name": "stdout",
     "output_type": "stream",
     "text": [
      "1.97767339399e-06 0.534759773444 -10.0931937748 -4.29547849513\n",
      "4.13601055901e-05 0.013630048225\n"
     ]
    }
   ],
   "source": [
    "print(m_ml, b_ml, lnyerr_ml, lnV_ml)\n",
    "print(np.exp(lnyerr_ml), np.exp(lnV_ml))"
   ]
  },
  {
   "cell_type": "code",
   "execution_count": 37,
   "metadata": {
    "collapsed": true
   },
   "outputs": [],
   "source": [
    "def lnprior(theta):\n",
    "    m, b, lnyerr, lnV= theta\n",
    "    if 0.0 < b < 1.0:\n",
    "#   if -1.0 < m < 1.0 and 0.0 < b < 1.0 and -5.0 < lnyerr < 0.0 and -3.0 < lnV < 0.0:\n",
    "        pri_m = norm.logpdf(m, 0.0, 1.0)\n",
    "        pri_lnyerr = norm.logpdf(lnyerr, -2.5, 2.5/3.0)\n",
    "        pri_lnV = halfnorm.logpdf(np.sqrt(np.exp(lnV)), 0, .1)\n",
    "        return pri_m + pri_lnyerr + pri_lnV\n",
    "    return -np.inf"
   ]
  },
  {
   "cell_type": "code",
   "execution_count": 38,
   "metadata": {
    "collapsed": true
   },
   "outputs": [],
   "source": [
    "def lnprob(theta, x, y):\n",
    "    lp = lnprior(theta)\n",
    "    if not np.isfinite(lp):\n",
    "        return -np.inf\n",
    "    return lp + lnlike(theta, x, y)"
   ]
  },
  {
   "cell_type": "code",
   "execution_count": 39,
   "metadata": {
    "collapsed": true
   },
   "outputs": [],
   "source": [
    "ndim, nwalkers = 4, 200\n",
    "# pos = [result[\"x\"] + np.random.randn(ndim)*1e-4*[.2, .1, .5, .3, .3] for i in range(nwalkers)] #nwalkers x ndim entries\n",
    "pos = [np.random.randn(ndim)*1e-4*[0.001, .6, -2.5, -2.5] for i in range(nwalkers)]"
   ]
  },
  {
   "cell_type": "code",
   "execution_count": 40,
   "metadata": {
    "collapsed": true
   },
   "outputs": [],
   "source": [
    "sampler = emcee.EnsembleSampler(nwalkers, ndim, lnprob, args=(days, planets_etamb), threads=4, a=4.0)"
   ]
  },
  {
   "cell_type": "code",
   "execution_count": null,
   "metadata": {},
   "outputs": [
    {
     "name": "stderr",
     "output_type": "stream",
     "text": [
      "/Users/rebeccachen/anaconda/lib/python3.6/site-packages/emcee/ensemble.py:335: RuntimeWarning: invalid value encountered in subtract\n",
      "  lnpdiff = (self.dim - 1.) * np.log(zz) + newlnprob - lnprob0\n",
      "/Users/rebeccachen/anaconda/lib/python3.6/site-packages/emcee/ensemble.py:336: RuntimeWarning: invalid value encountered in greater\n",
      "  accept = (lnpdiff > np.log(self._random.rand(len(lnpdiff))))\n"
     ]
    }
   ],
   "source": [
    "sampler.run_mcmc(pos, 1000)"
   ]
  },
  {
   "cell_type": "code",
   "execution_count": null,
   "metadata": {},
   "outputs": [],
   "source": [
    "plt.figure(1)\n",
    "fig, axes = plt.subplots(ndim, figsize=(10, 7), sharex=True)\n",
    "samples = sampler.chain\n",
    "labels = [\"m\", \"b\", \"lnyerr\", \"lnV\"]\n",
    "for i in range(ndim):\n",
    "    ax = axes[i]\n",
    "    ax.plot(samples[:, :, i].T, \"k\", alpha=0.3)\n",
    "#     ax.set_xlim(0, len(samples))\n",
    "    #(nwalkers, nsteps, dim)\n",
    "    ax.set_ylabel(labels[i])\n",
    "    ax.yaxis.set_label_coords(-0.1, 0.5)\n",
    "\n",
    "axes[-1].set_xlabel(\"step number\");\n",
    "fig.savefig(\"200walkers_smallinit_a4.0_1000steps_nobias.png\")\n",
    "plt.show()"
   ]
  },
  {
   "cell_type": "code",
   "execution_count": null,
   "metadata": {
    "collapsed": true
   },
   "outputs": [],
   "source": [
    "flat_samples = sampler.chain[:, 200:, :].reshape((-1, ndim))"
   ]
  },
  {
   "cell_type": "code",
   "execution_count": null,
   "metadata": {},
   "outputs": [],
   "source": [
    "fig = corner.corner(flat_samples, labels=[\"$m$\", \"$b$\", \"$lnyerr$\", \"$lnV$\"],\n",
    "                      truths=[m_true, b_true, lnyerr_true, lnV_true])\n",
    "fig.savefig(\"200walkers_smallinit_a4.0_1000steps_nobias_corner.png\")"
   ]
  },
  {
   "cell_type": "code",
   "execution_count": 28,
   "metadata": {},
   "outputs": [
    {
     "data": {
      "text/latex": [
       "$$\\mathrm{m} = 0.000_{-0.000}^{0.000}$$"
      ],
      "text/plain": [
       "<IPython.core.display.Math object>"
      ]
     },
     "metadata": {},
     "output_type": "display_data"
    },
    {
     "data": {
      "text/latex": [
       "$$\\mathrm{b} = 0.534_{-0.009}^{0.009}$$"
      ],
      "text/plain": [
       "<IPython.core.display.Math object>"
      ]
     },
     "metadata": {},
     "output_type": "display_data"
    },
    {
     "data": {
      "text/latex": [
       "$$\\mathrm{lnyerr} = -4.005_{-0.474}^{0.387}$$"
      ],
      "text/plain": [
       "<IPython.core.display.Math object>"
      ]
     },
     "metadata": {},
     "output_type": "display_data"
    },
    {
     "data": {
      "text/latex": [
       "$$\\mathrm{lnV} = -4.294_{-0.060}^{0.062}$$"
      ],
      "text/plain": [
       "<IPython.core.display.Math object>"
      ]
     },
     "metadata": {},
     "output_type": "display_data"
    }
   ],
   "source": [
    "from IPython.display import display, Math\n",
    "results = []\n",
    "\n",
    "for i in range(ndim):\n",
    "    mcmc = np.percentile(flat_samples[:, i], [16, 50, 84])\n",
    "    results.append(mcmc)\n",
    "    q = np.diff(mcmc)\n",
    "    txt = \"\\mathrm{{{3}}} = {0:.3f}_{{-{1:.3f}}}^{{{2:.3f}}}\"\n",
    "    txt = txt.format(mcmc[1], q[0], q[1], labels[i])\n",
    "    display(Math(txt))"
   ]
  },
  {
   "cell_type": "code",
   "execution_count": null,
   "metadata": {
    "collapsed": true
   },
   "outputs": [],
   "source": []
  }
 ],
 "metadata": {
  "kernelspec": {
   "display_name": "Python 3",
   "language": "python",
   "name": "python3"
  },
  "language_info": {
   "codemirror_mode": {
    "name": "ipython",
    "version": 3
   },
   "file_extension": ".py",
   "mimetype": "text/x-python",
   "name": "python",
   "nbconvert_exporter": "python",
   "pygments_lexer": "ipython3",
   "version": "3.6.1"
  }
 },
 "nbformat": 4,
 "nbformat_minor": 2
}
