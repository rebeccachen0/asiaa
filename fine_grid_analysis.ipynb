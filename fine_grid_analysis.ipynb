{
 "cells": [
  {
   "cell_type": "code",
   "execution_count": 1,
   "metadata": {
    "ExecuteTime": {
     "end_time": "2018-08-22T03:01:00.083577Z",
     "start_time": "2018-08-22T03:00:58.241369Z"
    },
    "collapsed": true
   },
   "outputs": [],
   "source": [
    "import forward_modeling as fm\n",
    "import pickle\n",
    "import numpy as np"
   ]
  },
  {
   "cell_type": "code",
   "execution_count": 2,
   "metadata": {
    "ExecuteTime": {
     "end_time": "2018-08-22T03:01:02.999346Z",
     "start_time": "2018-08-22T03:01:02.992270Z"
    }
   },
   "outputs": [
    {
     "name": "stdout",
     "output_type": "stream",
     "text": [
      "[ -1.00000000e-03  -8.18181818e-04  -6.36363636e-04  -4.54545455e-04\n",
      "  -2.72727273e-04  -9.09090909e-05   9.09090909e-05   2.72727273e-04\n",
      "   4.54545455e-04   6.36363636e-04   8.18181818e-04   1.00000000e-03]\n"
     ]
    }
   ],
   "source": [
    "print(np.linspace(-.001, .001, num=12))"
   ]
  },
  {
   "cell_type": "code",
   "execution_count": null,
   "metadata": {
    "ExecuteTime": {
     "start_time": "2018-08-21T04:22:02.734Z"
    },
    "collapsed": true
   },
   "outputs": [],
   "source": [
    "results1 = pickle.load( open( \"/Volumes/drive/full_results.p\", \"rb\" ) )\n",
    "results2 = pickle.load( open( \"/Volumes/drive/full_results2.p\", \"rb\" ) )\n",
    "results3 = pickle.load( open( \"/Volumes/drive/full_results3.p\", \"rb\" ) )\n",
    "results4 = pickle.load( open( \"/Volumes/drive/full_results4.p\", \"rb\" ) )\n",
    "results5 = pickle.load( open( \"/Volumes/drive/full_results5.p\", \"rb\" ) )\n",
    "results6 = pickle.load( open( \"/Volumes/drive/full_results6.p\", \"rb\" ) )\n",
    "results7 = pickle.load( open( \"/Volumes/drive/full_results7.p\", \"rb\" ) )\n",
    "results8 = pickle.load( open( \"/Volumes/drive/full_results8.p\", \"rb\" ) )"
   ]
  },
  {
   "cell_type": "code",
   "execution_count": 4,
   "metadata": {
    "ExecuteTime": {
     "end_time": "2018-08-21T04:12:43.786543Z",
     "start_time": "2018-08-21T04:12:43.750468Z"
    },
    "collapsed": true
   },
   "outputs": [],
   "source": [
    "def merge_dicts(*dict_args):\n",
    "    \"\"\"\n",
    "    Given any number of dicts, shallow copy and merge into a new dict,\n",
    "    precedence goes to key value pairs in latter dicts.\n",
    "    \"\"\"\n",
    "    result = {}\n",
    "    for dictionary in dict_args:\n",
    "        result.update(dictionary)\n",
    "    return result"
   ]
  },
  {
   "cell_type": "code",
   "execution_count": 15,
   "metadata": {
    "ExecuteTime": {
     "end_time": "2018-08-21T04:16:44.911878Z",
     "start_time": "2018-08-21T04:16:44.900009Z"
    }
   },
   "outputs": [
    {
     "name": "stdout",
     "output_type": "stream",
     "text": [
      "3072\n"
     ]
    }
   ],
   "source": [
    "full_results_concat = merge_dicts(results1, results2, results3, results4, results5, results6, results7, results8)\n",
    "print(len(full_results_concat))"
   ]
  },
  {
   "cell_type": "code",
   "execution_count": 13,
   "metadata": {
    "ExecuteTime": {
     "end_time": "2018-08-21T04:14:16.574290Z",
     "start_time": "2018-08-21T04:14:16.073311Z"
    }
   },
   "outputs": [
    {
     "name": "stdout",
     "output_type": "stream",
     "text": [
      "3072\n",
      "3\n",
      "0.0\n"
     ]
    }
   ],
   "source": [
    "#calculate MADM median absolute deviation median\n",
    "all_ks_stats=[]\n",
    "for param, test in full_results_concat.items():\n",
    "    all_ks_stats.append(test[1][0])\n",
    "print(len(all_ks_stats))\n",
    "tenth_percent = int(len(all_ks_stats)/1000)\n",
    "print(tenth_percent)\n",
    "top_pointone_percent = np.sort(all_ks_stats)[:tenth_percent]\n",
    "top_median = np.median(top_pointone_percent)\n",
    "deviations = []\n",
    "for stat in top_pointone_percent:\n",
    "    deviations.append(top_median-stat)\n",
    "    \n",
    "print(np.median(deviations))"
   ]
  },
  {
   "cell_type": "code",
   "execution_count": null,
   "metadata": {
    "collapsed": true
   },
   "outputs": [],
   "source": []
  }
 ],
 "metadata": {
  "kernelspec": {
   "display_name": "Python 3",
   "language": "python",
   "name": "python3"
  },
  "language_info": {
   "codemirror_mode": {
    "name": "ipython",
    "version": 3
   },
   "file_extension": ".py",
   "mimetype": "text/x-python",
   "name": "python",
   "nbconvert_exporter": "python",
   "pygments_lexer": "ipython3",
   "version": "3.6.1"
  }
 },
 "nbformat": 4,
 "nbformat_minor": 2
}
