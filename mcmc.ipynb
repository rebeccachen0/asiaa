{
 "cells": [
  {
   "cell_type": "code",
   "execution_count": 2,
   "metadata": {
    "ExecuteTime": {
     "end_time": "2018-08-29T09:30:23.434624Z",
     "start_time": "2018-08-29T09:30:22.257104Z"
    },
    "collapsed": true
   },
   "outputs": [],
   "source": [
    "import numpy as np\n",
    "import scipy.optimize as op\n",
    "import datetime\n",
    "import emcee\n",
    "import matplotlib.pyplot as plt\n",
    "import corner\n",
    "%matplotlib inline"
   ]
  },
  {
   "cell_type": "code",
   "execution_count": 3,
   "metadata": {
    "ExecuteTime": {
     "end_time": "2018-08-29T09:30:23.473774Z",
     "start_time": "2018-08-29T09:30:23.436409Z"
    },
    "collapsed": true
   },
   "outputs": [],
   "source": [
    "mars = np.genfromtxt('data/harp_mars.dat', usecols=np.arange(0, 9))\n",
    "jupiter = np.genfromtxt('data/harp_jupiter.dat', usecols=np.arange(0, 8))\n",
    "uranus = np.genfromtxt('data/harp_uranus.dat', usecols=np.arange(0, 8))"
   ]
  },
  {
   "cell_type": "code",
   "execution_count": 4,
   "metadata": {
    "ExecuteTime": {
     "end_time": "2018-08-29T09:30:23.553887Z",
     "start_time": "2018-08-29T09:30:23.476861Z"
    },
    "collapsed": true
   },
   "outputs": [],
   "source": [
    "mars_etamb = mars[:,5]\n",
    "jupiter_etamb = jupiter[:,5]\n",
    "uranus_etamb = uranus[:,5]\n",
    "\n",
    "mars_dates = mars[:,0]\n",
    "jupiter_dates = jupiter[:,0]\n",
    "uranus_dates = uranus[:,0]\n",
    "\n",
    "mars = mars[mars[:,1] > 5]\n",
    "mars = mars[mars[:,1] < 19]\n",
    "jupiter = jupiter[jupiter[:,1] > 5]\n",
    "jupiter = jupiter[jupiter[:,1] < 19]\n",
    "uranus = uranus[uranus[:,1] > 5]\n",
    "uranus = uranus[uranus[:,1] < 19]\n",
    "\n",
    "planets_etamb = np.concatenate((mars_etamb, jupiter_etamb, uranus_etamb), axis=0)\n",
    "raw_dates = np.concatenate((mars_dates, jupiter_dates, uranus_dates), axis=0)\n",
    "dates = [datetime.datetime.strptime(str(int(date)),'%Y%m%d') for date in raw_dates]\n",
    "yerr = np.array([(.1 * etamb + .01) for etamb in planets_etamb])"
   ]
  },
  {
   "cell_type": "code",
   "execution_count": 5,
   "metadata": {
    "ExecuteTime": {
     "end_time": "2018-08-29T09:30:23.562481Z",
     "start_time": "2018-08-29T09:30:23.556657Z"
    },
    "collapsed": true
   },
   "outputs": [],
   "source": [
    "oldest = min(dates)\n",
    "days = np.array([np.float64((date - oldest).days) + 1 for date in dates])"
   ]
  },
  {
   "cell_type": "code",
   "execution_count": 6,
   "metadata": {
    "ExecuteTime": {
     "end_time": "2018-08-29T09:30:23.580158Z",
     "start_time": "2018-08-29T09:30:23.565880Z"
    },
    "collapsed": true
   },
   "outputs": [],
   "source": [
    "m_true = 0.0\n",
    "b_true = .5\n",
    "\n",
    "f_true = .1"
   ]
  },
  {
   "cell_type": "code",
   "execution_count": 7,
   "metadata": {
    "ExecuteTime": {
     "end_time": "2018-08-29T09:30:23.659710Z",
     "start_time": "2018-08-29T09:30:23.611584Z"
    },
    "collapsed": true
   },
   "outputs": [],
   "source": [
    "# for entire notebook, there is a version that includes uncertainty as a parameter and one that does not\n",
    "\n",
    "# def lnlike(theta, x, y, yerr):\n",
    "#     m, b = theta\n",
    "#     model = m * x + b\n",
    "#     inv_sigma2 = 1.0/(yerr**2)\n",
    "#     return -0.5*(np.sum((y-model)**2*inv_sigma2))\n",
    "\n",
    "def lnlike(theta, x, y):\n",
    "    m, b, f = theta\n",
    "    model = m * x + b\n",
    "    inv_sigma2 = 1.0/(f**2)\n",
    "    return -0.5*(np.sum((y-model)**2*inv_sigma2))"
   ]
  },
  {
   "cell_type": "code",
   "execution_count": 8,
   "metadata": {
    "ExecuteTime": {
     "end_time": "2018-08-29T09:30:23.859425Z",
     "start_time": "2018-08-29T09:30:23.690900Z"
    },
    "collapsed": true
   },
   "outputs": [],
   "source": [
    "# nll = lambda *args: -lnlike(*args)\n",
    "# result = op.minimize(nll, [m_true, b_true], args=(days, planets_etamb, yerr))\n",
    "# m_ml, b_ml = result[\"x\"]\n",
    "\n",
    "nll = lambda *args: -lnlike(*args)\n",
    "result = op.minimize(nll, [m_true, b_true, f_true], args=(days, planets_etamb))\n",
    "m_ml, b_ml, f_ml = result[\"x\"]"
   ]
  },
  {
   "cell_type": "code",
   "execution_count": 9,
   "metadata": {
    "ExecuteTime": {
     "end_time": "2018-08-29T09:30:23.884929Z",
     "start_time": "2018-08-29T09:30:23.870429Z"
    }
   },
   "outputs": [
    {
     "name": "stdout",
     "output_type": "stream",
     "text": [
      "-0.00151133743076 2.86489996632 136.664754403\n"
     ]
    }
   ],
   "source": [
    "print(m_ml, b_ml, f_ml)"
   ]
  },
  {
   "cell_type": "code",
   "execution_count": 10,
   "metadata": {
    "ExecuteTime": {
     "end_time": "2018-08-29T09:30:24.148694Z",
     "start_time": "2018-08-29T09:30:24.136265Z"
    },
    "collapsed": true
   },
   "outputs": [],
   "source": [
    "# def lnprior(theta):\n",
    "#     m, b= theta\n",
    "#     if -1.0 < m < 1.0 and 0.0 < b < 1.0:\n",
    "#         return 0.0\n",
    "#     return -np.inf\n",
    "\n",
    "def lnprior(theta):\n",
    "    m, b, f= theta\n",
    "    if -1.0 < m < 1.0 and 0.0 < b < 1.0 and 0.0 < f < .5:\n",
    "        return 0.0\n",
    "    return -np.inf"
   ]
  },
  {
   "cell_type": "code",
   "execution_count": 11,
   "metadata": {
    "ExecuteTime": {
     "end_time": "2018-08-29T09:30:24.438829Z",
     "start_time": "2018-08-29T09:30:24.431945Z"
    },
    "collapsed": true
   },
   "outputs": [],
   "source": [
    "# def lnprob(theta, x, y, yerr):\n",
    "#     lp = lnprior(theta)\n",
    "#     if not np.isfinite(lp):\n",
    "#         return -np.inf\n",
    "#     return lp + lnlike(theta, x, y, yerr)\n",
    "\n",
    "def lnprob(theta, x, y):\n",
    "    lp = lnprior(theta)\n",
    "    if not np.isfinite(lp):\n",
    "        return -np.inf\n",
    "    return lp + lnlike(theta, x, y)"
   ]
  },
  {
   "cell_type": "code",
   "execution_count": 12,
   "metadata": {
    "ExecuteTime": {
     "end_time": "2018-08-29T09:30:24.872667Z",
     "start_time": "2018-08-29T09:30:24.866491Z"
    },
    "collapsed": true
   },
   "outputs": [],
   "source": [
    "# ndim, nwalkers = 2, 100\n",
    "# pos = [result[\"x\"] + 1e-4*np.random.randn(ndim) for i in range(nwalkers)]\n",
    "\n",
    "ndim, nwalkers = 3, 100\n",
    "pos = [result[\"x\"] + 1e-4*np.random.randn(ndim) for i in range(nwalkers)]"
   ]
  },
  {
   "cell_type": "code",
   "execution_count": 13,
   "metadata": {
    "ExecuteTime": {
     "end_time": "2018-08-29T09:30:25.204281Z",
     "start_time": "2018-08-29T09:30:25.194384Z"
    },
    "collapsed": true
   },
   "outputs": [],
   "source": [
    "# sampler = emcee.EnsembleSampler(nwalkers, ndim, lnprob, args=(days, planets_etamb, yerr))\n",
    "sampler = emcee.EnsembleSampler(nwalkers, ndim, lnprob, args=(days, planets_etamb))"
   ]
  },
  {
   "cell_type": "code",
   "execution_count": 14,
   "metadata": {
    "ExecuteTime": {
     "end_time": "2018-08-29T09:30:26.346909Z",
     "start_time": "2018-08-29T09:30:25.499364Z"
    },
    "scrolled": true
   },
   "outputs": [
    {
     "name": "stderr",
     "output_type": "stream",
     "text": [
      "/Users/rebeccachen/anaconda/lib/python3.6/site-packages/emcee/ensemble.py:335: RuntimeWarning: invalid value encountered in subtract\n",
      "  lnpdiff = (self.dim - 1.) * np.log(zz) + newlnprob - lnprob0\n",
      "/Users/rebeccachen/anaconda/lib/python3.6/site-packages/emcee/ensemble.py:336: RuntimeWarning: invalid value encountered in greater\n",
      "  accept = (lnpdiff > np.log(self._random.rand(len(lnpdiff))))\n"
     ]
    },
    {
     "data": {
      "text/plain": [
       "(array([[ -1.51767041e-03,   2.86480788e+00,   1.36664831e+02],\n",
       "        [ -1.54601605e-03,   2.86476809e+00,   1.36664792e+02],\n",
       "        [ -1.49147558e-03,   2.86488021e+00,   1.36664858e+02],\n",
       "        [ -1.51384184e-03,   2.86487618e+00,   1.36664703e+02],\n",
       "        [ -1.54986162e-03,   2.86493789e+00,   1.36664878e+02],\n",
       "        [ -1.47470622e-03,   2.86494407e+00,   1.36664467e+02],\n",
       "        [ -1.45946169e-03,   2.86490549e+00,   1.36664725e+02],\n",
       "        [ -1.56029148e-03,   2.86503247e+00,   1.36664703e+02],\n",
       "        [ -1.52666728e-03,   2.86487422e+00,   1.36664714e+02],\n",
       "        [ -1.52404180e-03,   2.86480214e+00,   1.36664668e+02],\n",
       "        [ -1.39321050e-03,   2.86504268e+00,   1.36664640e+02],\n",
       "        [ -1.43853915e-03,   2.86480680e+00,   1.36664821e+02],\n",
       "        [ -1.44446405e-03,   2.86472931e+00,   1.36664844e+02],\n",
       "        [ -1.47950152e-03,   2.86486232e+00,   1.36664772e+02],\n",
       "        [ -1.55135898e-03,   2.86488175e+00,   1.36664882e+02],\n",
       "        [ -1.37382717e-03,   2.86500477e+00,   1.36664694e+02],\n",
       "        [ -1.54907706e-03,   2.86492971e+00,   1.36664808e+02],\n",
       "        [ -1.51247247e-03,   2.86489616e+00,   1.36664672e+02],\n",
       "        [ -1.63226760e-03,   2.86481391e+00,   1.36664885e+02],\n",
       "        [ -1.54643341e-03,   2.86499663e+00,   1.36664570e+02],\n",
       "        [ -1.51639489e-03,   2.86478803e+00,   1.36664756e+02],\n",
       "        [ -1.49228810e-03,   2.86499215e+00,   1.36664871e+02],\n",
       "        [ -1.41944494e-03,   2.86483769e+00,   1.36664700e+02],\n",
       "        [ -1.43694141e-03,   2.86501746e+00,   1.36664734e+02],\n",
       "        [ -1.58970148e-03,   2.86491696e+00,   1.36664835e+02],\n",
       "        [ -1.56192562e-03,   2.86496632e+00,   1.36665033e+02],\n",
       "        [ -1.49317870e-03,   2.86468831e+00,   1.36664585e+02],\n",
       "        [ -1.44130594e-03,   2.86471272e+00,   1.36664729e+02],\n",
       "        [ -1.57284297e-03,   2.86480371e+00,   1.36664662e+02],\n",
       "        [ -1.79838688e-03,   2.86483715e+00,   1.36664625e+02],\n",
       "        [ -1.47492896e-03,   2.86492660e+00,   1.36664815e+02],\n",
       "        [ -1.44325549e-03,   2.86496458e+00,   1.36664783e+02],\n",
       "        [ -1.61000162e-03,   2.86505081e+00,   1.36664906e+02],\n",
       "        [ -1.53820517e-03,   2.86497668e+00,   1.36664848e+02],\n",
       "        [ -1.42717243e-03,   2.86506354e+00,   1.36664792e+02],\n",
       "        [ -1.36778385e-03,   2.86509216e+00,   1.36664786e+02],\n",
       "        [ -1.54407088e-03,   2.86482250e+00,   1.36664752e+02],\n",
       "        [ -1.59843426e-03,   2.86493790e+00,   1.36664682e+02],\n",
       "        [ -1.31946286e-03,   2.86483008e+00,   1.36664668e+02],\n",
       "        [ -1.44732169e-03,   2.86493886e+00,   1.36664680e+02],\n",
       "        [ -1.48386374e-03,   2.86490598e+00,   1.36664837e+02],\n",
       "        [ -1.38724635e-03,   2.86498000e+00,   1.36664808e+02],\n",
       "        [ -1.55136739e-03,   2.86496817e+00,   1.36664764e+02],\n",
       "        [ -1.72545717e-03,   2.86470653e+00,   1.36664897e+02],\n",
       "        [ -1.47868975e-03,   2.86491038e+00,   1.36664800e+02],\n",
       "        [ -1.49656998e-03,   2.86491751e+00,   1.36664834e+02],\n",
       "        [ -1.49207209e-03,   2.86482809e+00,   1.36664549e+02],\n",
       "        [ -1.52723338e-03,   2.86486501e+00,   1.36664592e+02],\n",
       "        [ -1.55341880e-03,   2.86479363e+00,   1.36664559e+02],\n",
       "        [ -1.64489280e-03,   2.86498131e+00,   1.36664568e+02],\n",
       "        [ -1.45988769e-03,   2.86494171e+00,   1.36664689e+02],\n",
       "        [ -1.65722620e-03,   2.86502006e+00,   1.36664600e+02],\n",
       "        [ -1.65074747e-03,   2.86471945e+00,   1.36664661e+02],\n",
       "        [ -1.41883191e-03,   2.86507742e+00,   1.36664746e+02],\n",
       "        [ -1.59835464e-03,   2.86477649e+00,   1.36664838e+02],\n",
       "        [ -1.49597184e-03,   2.86481785e+00,   1.36664729e+02],\n",
       "        [ -1.36545818e-03,   2.86491157e+00,   1.36664823e+02],\n",
       "        [ -1.47556869e-03,   2.86486201e+00,   1.36664803e+02],\n",
       "        [ -1.60742089e-03,   2.86499288e+00,   1.36664699e+02],\n",
       "        [ -1.49266039e-03,   2.86497248e+00,   1.36664798e+02],\n",
       "        [ -1.69975348e-03,   2.86487728e+00,   1.36664746e+02],\n",
       "        [ -1.51265165e-03,   2.86470813e+00,   1.36664785e+02],\n",
       "        [ -1.50695964e-03,   2.86500131e+00,   1.36664704e+02],\n",
       "        [ -1.43333582e-03,   2.86494542e+00,   1.36664761e+02],\n",
       "        [ -1.51831649e-03,   2.86499421e+00,   1.36664780e+02],\n",
       "        [ -1.53336645e-03,   2.86474432e+00,   1.36664739e+02],\n",
       "        [ -1.45020130e-03,   2.86494440e+00,   1.36664753e+02],\n",
       "        [ -1.52088810e-03,   2.86487079e+00,   1.36664887e+02],\n",
       "        [ -1.60552875e-03,   2.86491217e+00,   1.36664865e+02],\n",
       "        [ -1.57080781e-03,   2.86493616e+00,   1.36664748e+02],\n",
       "        [ -1.40121388e-03,   2.86495078e+00,   1.36664699e+02],\n",
       "        [ -1.52982038e-03,   2.86498545e+00,   1.36664632e+02],\n",
       "        [ -1.77374409e-03,   2.86503062e+00,   1.36664688e+02],\n",
       "        [ -1.42574679e-03,   2.86488652e+00,   1.36664693e+02],\n",
       "        [ -1.59077757e-03,   2.86478585e+00,   1.36664708e+02],\n",
       "        [ -1.42883357e-03,   2.86485218e+00,   1.36665027e+02],\n",
       "        [ -1.56400440e-03,   2.86504973e+00,   1.36664885e+02],\n",
       "        [ -1.49766483e-03,   2.86478323e+00,   1.36664864e+02],\n",
       "        [ -1.54704440e-03,   2.86483884e+00,   1.36664807e+02],\n",
       "        [ -1.44508071e-03,   2.86498686e+00,   1.36664908e+02],\n",
       "        [ -1.49382254e-03,   2.86486893e+00,   1.36664786e+02],\n",
       "        [ -1.39130569e-03,   2.86477952e+00,   1.36664721e+02],\n",
       "        [ -1.76596799e-03,   2.86491055e+00,   1.36664790e+02],\n",
       "        [ -1.23210532e-03,   2.86521634e+00,   1.36664674e+02],\n",
       "        [ -1.52432972e-03,   2.86480047e+00,   1.36664764e+02],\n",
       "        [ -1.62018457e-03,   2.86489143e+00,   1.36664677e+02],\n",
       "        [ -1.60808348e-03,   2.86497892e+00,   1.36664722e+02],\n",
       "        [ -1.73316759e-03,   2.86509200e+00,   1.36664816e+02],\n",
       "        [ -1.51511150e-03,   2.86492161e+00,   1.36664624e+02],\n",
       "        [ -1.43962827e-03,   2.86476901e+00,   1.36664866e+02],\n",
       "        [ -1.51220623e-03,   2.86475836e+00,   1.36664906e+02],\n",
       "        [ -1.60875922e-03,   2.86466570e+00,   1.36664645e+02],\n",
       "        [ -1.55340621e-03,   2.86494745e+00,   1.36664739e+02],\n",
       "        [ -1.64349082e-03,   2.86485759e+00,   1.36664709e+02],\n",
       "        [ -1.45608696e-03,   2.86485941e+00,   1.36664709e+02],\n",
       "        [ -1.40995763e-03,   2.86480807e+00,   1.36664766e+02],\n",
       "        [ -1.51789952e-03,   2.86477755e+00,   1.36664456e+02],\n",
       "        [ -1.46779768e-03,   2.86475258e+00,   1.36664996e+02],\n",
       "        [ -1.58033607e-03,   2.86500523e+00,   1.36664820e+02],\n",
       "        [ -1.51944610e-03,   2.86480443e+00,   1.36664812e+02]]),\n",
       " array([-inf, -inf, -inf, -inf, -inf, -inf, -inf, -inf, -inf, -inf, -inf,\n",
       "        -inf, -inf, -inf, -inf, -inf, -inf, -inf, -inf, -inf, -inf, -inf,\n",
       "        -inf, -inf, -inf, -inf, -inf, -inf, -inf, -inf, -inf, -inf, -inf,\n",
       "        -inf, -inf, -inf, -inf, -inf, -inf, -inf, -inf, -inf, -inf, -inf,\n",
       "        -inf, -inf, -inf, -inf, -inf, -inf, -inf, -inf, -inf, -inf, -inf,\n",
       "        -inf, -inf, -inf, -inf, -inf, -inf, -inf, -inf, -inf, -inf, -inf,\n",
       "        -inf, -inf, -inf, -inf, -inf, -inf, -inf, -inf, -inf, -inf, -inf,\n",
       "        -inf, -inf, -inf, -inf, -inf, -inf, -inf, -inf, -inf, -inf, -inf,\n",
       "        -inf, -inf, -inf, -inf, -inf, -inf, -inf, -inf, -inf, -inf, -inf,\n",
       "        -inf]),\n",
       " ('MT19937', array([3049001293, 2767903639, 3132075249,  676534631, 3226667382,\n",
       "         3212104652, 3433687066, 2058977926,  252661597, 2619764079,\n",
       "         3952887598, 1698904590, 3337215539, 3514104802,  311597690,\n",
       "         1729591897,  935289140, 2320808977, 3407056291, 3253028507,\n",
       "         3521093682, 2586448872,  548931783, 3561335872, 1732629928,\n",
       "         3544105202, 3014567002, 2854464131,  196829832, 3562708667,\n",
       "         2174495738, 2027979527, 1990630551, 3081604069, 1779164246,\n",
       "         1714868963, 3733680812, 3763156657, 2253629263,   66557493,\n",
       "         2847137270, 1542424959, 1421223507, 3411865380,  542986717,\n",
       "         1030755176,  399981821, 3285220019, 1136944578, 2163404389,\n",
       "         1535765161, 1869367833, 1383557016, 2239712447, 2023447998,\n",
       "         2094261572, 2695454811, 4070000228,  235727495, 1792607172,\n",
       "         3193775294, 3263053250,  889278392, 1999996026, 2380512044,\n",
       "         1908890884,  323052162, 4215659015, 3782395630, 3238618334,\n",
       "         3038564373, 2561321312, 2394665984,  682844530, 2491530399,\n",
       "           17536138,  969079414, 2428799997, 1516432537, 2016800544,\n",
       "          629956282,  165741735, 3747822984,  535267974,  881785043,\n",
       "         3282433054, 3213012740, 2913729007, 1326443263, 3258266294,\n",
       "         2622360969,  334493689, 3504993674, 2648583265, 3540517275,\n",
       "         1531900003, 2596935758, 1182247822, 1088740399,  714136240,\n",
       "         2117285864, 3471787189, 3830477437, 1550355089,  167762449,\n",
       "          478346650,  254438384,  983410974,  355463886, 2761318210,\n",
       "         3121922338, 2146617759, 1254231206, 3538510978,  541203707,\n",
       "          154010003,  104697646,  655443264, 1762229135,  169609176,\n",
       "         3986766551, 3958876150, 3303867948,  429797971, 1463823000,\n",
       "         4064616874, 1116611815, 3051061229, 3363446264, 2081104778,\n",
       "         2810484874,  897064246,  480705164, 2502392834, 4189266579,\n",
       "         2770548255, 1721416840,  710117112, 2229055633, 3188310502,\n",
       "         1658246405, 1875932385,  821331705, 4203401440, 4003317134,\n",
       "           55802061,  448921325, 3420728788, 2477137416, 2375204747,\n",
       "         1423050241,  125723691, 1991911367, 2771183182, 1023743590,\n",
       "         3126420652, 3746264788, 1448916358, 3899748238, 3066563212,\n",
       "         1240691676,  517809208,  347882295, 4138499785, 1327020580,\n",
       "          429211086, 3212042379, 2779107201, 2083323178, 4178879785,\n",
       "         2849194389, 1264550435, 2600056927,  197951249, 1656343735,\n",
       "         1247309861,  719012081,  970917103, 1868928536, 2304034091,\n",
       "         2380271375, 3487906510, 2461654811, 2948720351, 2853386181,\n",
       "         1846346578, 3791301225, 2094858690, 3256292614, 2165700601,\n",
       "         2319883183,  472445840,  207021062, 1964055541, 1733123170,\n",
       "         2471900452, 4125810335, 3795385890, 2478928661, 2985275997,\n",
       "         1319057693, 4127175370,  555604749,  610245113, 3723604399,\n",
       "         3874117100, 4053394682, 3392060916, 1927335993, 3619241785,\n",
       "         1128601264, 1147928443,  169945249,  709464263, 1845281900,\n",
       "         3542079042, 4032791046, 3991133621, 3329141479, 3644125618,\n",
       "         4079290087, 3173602343,  628675498, 2194083805, 1227375023,\n",
       "         4137754851, 4019434568,  120429253,  298191974, 4064479380,\n",
       "          461220579, 1919999169, 1341246642,  657919882, 2517823314,\n",
       "         1254670067, 1129461409,  251755580, 4086559214, 3828596913,\n",
       "         3430175852,  723680786, 2523220188, 1786339676, 4101496917,\n",
       "          716790905,  834666107, 1166704948, 3265431340, 1311898577,\n",
       "         1491771442, 2487682552, 4254236977, 3888264126,  858447467,\n",
       "         1105123238,  537909767,  714405625,  916511597, 4249574023,\n",
       "         1395012176, 2297467506, 1545177607,  943501675, 3647900964,\n",
       "         1350972749, 1908287337, 4226392109, 3798040366, 1772503023,\n",
       "         1436741601,  768554901, 2211951911, 3387951477, 1885542414,\n",
       "         1027151375, 1369127126,  676996023, 4174866425,  491506789,\n",
       "         3047160144,  901830465, 2206788389, 1168592379, 3979865453,\n",
       "          397138480, 3767444510, 2473272765,  320786300, 2162880881,\n",
       "         3588065825,  555270377, 2328390233, 2604152535,  229673236,\n",
       "           65335114, 4243885797, 4145603367, 3259946528, 3396810891,\n",
       "         3008349169,  299618312, 4154418356, 1238768524, 3325646397,\n",
       "         1747529527, 4181067250, 2485535290,  947041919, 1249195555,\n",
       "         4260814718, 3082781180,  357774362, 3851007726, 1693997564,\n",
       "         3064674626,  101430301,  513686396, 2814019144, 1765103416,\n",
       "         1601252718,  182146741, 4058566173, 3827378158, 3809558867,\n",
       "         4185990732, 2170139230, 2550940768, 3761931979, 3356689907,\n",
       "         3471810567, 3516926110, 3996493842,  418027954, 2599603414,\n",
       "         3197252489, 1057811709, 4237621117, 2603469693,  195083095,\n",
       "          301912335,  463922062, 1760160964, 1224294439, 2072525469,\n",
       "          197442659,  781809666,  363976444, 1824965218, 1338646149,\n",
       "         1932621047,  957904075, 1555314273, 1115227622, 3282276950,\n",
       "         3906890162,  128334320,  311477921,  318201337, 1982593619,\n",
       "         2666169017, 1072619452,  109518063, 1065223875, 4066099675,\n",
       "          610119054, 1267603257,  223999860, 2390162252, 3260470083,\n",
       "         2044842175, 2480742339,  179663824, 2838346263,  844546855,\n",
       "          700465996,  444309760, 1997070627, 3873537627,  264729247,\n",
       "         1026416427, 2133483654, 3273845452, 2623576764, 2496894567,\n",
       "          843124387, 4009295239, 3557486785, 1562109032, 3972248517,\n",
       "          297659808, 2660529451, 2336573015, 1607963702, 1678094161,\n",
       "         1511931295, 3983068809, 3667803932,  475294408, 1963149789,\n",
       "          245688903, 3462303088, 3222220133, 2956962992,   57342684,\n",
       "          414592791, 2820437307, 1223775923, 1032638043,  448727456,\n",
       "          617170460,  314805553,  322700648, 3458068372,  496133814,\n",
       "         2257024758, 1322074218, 3483560652, 3388877450, 2609735610,\n",
       "         3524664159,  468643402, 3407370313, 1489108291,  721523947,\n",
       "          531602689, 2294923221, 2112093939, 4111797314,  882943587,\n",
       "         3832662639, 3667693645, 1521280547, 3266115422,  615420633,\n",
       "          115489711, 2885310623, 1320339365,  931978218,  774822192,\n",
       "         3553046423, 2760584617, 3452224208, 1213843799, 1871444840,\n",
       "         2673900961, 3321621151, 2985740001, 3144368347, 2152666318,\n",
       "          155475654, 3746671302, 2789767525, 3644088332, 3769877373,\n",
       "         3887887049, 1771114053, 1246332335, 2853546640, 3988919141,\n",
       "         1054962074, 2953041721, 1583379303,  388032474, 3118463616,\n",
       "         1548568806, 1108005502, 3326139449, 2801206678, 4161043818,\n",
       "         1605362924, 3311222729, 4206840615, 4096636261, 1386375212,\n",
       "          106278170,  760377412,  728243997, 3154550323, 4098740289,\n",
       "          892594945, 2550718604, 3810536910, 1766098099,    8328593,\n",
       "         1921371553, 2952210223, 2002178792,  177370641,  839685230,\n",
       "         3457701506, 4273858210, 1881589962, 1192685644, 2710787938,\n",
       "         3565952205, 3910040423,  730921943, 4228062114,  641900844,\n",
       "         3180883643, 2867716328, 2091811689, 4070224701,  332396363,\n",
       "          188778624, 1799988021, 1175422160, 3593847533,  386195777,\n",
       "         3316888672,  702066306, 4259604653, 3313872607, 1441448703,\n",
       "         1951690923, 3447399377, 1275578606, 2082866102, 2110542486,\n",
       "         3249535266, 3981441446, 3860728979, 3007305676,  289495475,\n",
       "         4273555882, 2102291191, 3732793098,  278090932, 1944187222,\n",
       "         1716879677, 2764039602, 2106788625, 3775132955, 2352259144,\n",
       "         4156061455,  805458851,  335522034, 3360242576, 4077542438,\n",
       "         1424216048, 3693118015, 2614296756,  635729541, 1088853466,\n",
       "         3869395835, 1649322316, 1804732581, 1219926045,  611370609,\n",
       "         2915922143, 2019734797, 3606168957, 3665659569,  952214232,\n",
       "         3411723295,  570021751, 4111631059, 1810081460, 2940291797,\n",
       "         2603948728, 4266247064, 3107507029, 2532101213, 3259408898,\n",
       "          739966857, 3747359643, 2538600904, 3380002833, 2801887088,\n",
       "          353689314, 3171457596, 2819758962,  744696655, 1939606123,\n",
       "         2352640709, 3054489144, 2085808540,  525288524, 1159823145,\n",
       "         3476647453, 3596338570,  521563911,  115343252, 2206681344,\n",
       "         2268538489,  413824389, 2027469177, 2217895277, 2228605575,\n",
       "         2430870678, 2523956074, 1680868228, 3769377775,  243220309,\n",
       "         1628481725, 3726718750, 4066119166,  780756248, 3762227671,\n",
       "         1688742135,  793280676,  903901368, 2559970371, 4129719971,\n",
       "         2431338284, 2625723254, 1428327675, 2432097626,  466662499,\n",
       "         3614641088, 1241772940, 2283059970, 4112672524, 1030060485,\n",
       "          777496461, 1243431731, 3264659188, 4196818877, 3021399407,\n",
       "          380509445, 2272877394,  710671518,  784234224], dtype=uint32), 557, 0, 0.0))"
      ]
     },
     "execution_count": 14,
     "metadata": {},
     "output_type": "execute_result"
    }
   ],
   "source": [
    "sampler.run_mcmc(pos, 500)"
   ]
  },
  {
   "cell_type": "code",
   "execution_count": 15,
   "metadata": {
    "ExecuteTime": {
     "end_time": "2018-08-29T09:30:27.589192Z",
     "start_time": "2018-08-29T09:30:26.348895Z"
    }
   },
   "outputs": [
    {
     "data": {
      "text/plain": [
       "<matplotlib.figure.Figure at 0x1105396d8>"
      ]
     },
     "metadata": {},
     "output_type": "display_data"
    },
    {
     "data": {
      "image/png": "[encoded data removed]",
      "text/plain": [
       "<matplotlib.figure.Figure at 0x110539f60>"
      ]
     },
     "metadata": {},
     "output_type": "display_data"
    }
   ],
   "source": [
    "# plt.figure(1)\n",
    "# fig, axes = plt.subplots(2, figsize=(10, 7), sharex=True)\n",
    "# samples = sampler.chain\n",
    "# labels = [\"m\", \"b\"]\n",
    "# for i in range(ndim):\n",
    "#     ax = axes[i]\n",
    "#     ax.plot(samples[:, :, i].T, \"k\", alpha=0.3)\n",
    "#     ax.set_ylabel(labels[i])\n",
    "#     ax.yaxis.set_label_coords(-0.1, 0.5)\n",
    "\n",
    "# axes[-1].set_xlabel(\"step number\");\n",
    "# plt.show()\n",
    "\n",
    "plt.figure(1)\n",
    "fig, axes = plt.subplots(3, figsize=(10, 7), sharex=True)\n",
    "samples = sampler.chain\n",
    "labels = [\"m\", \"b\", \"f\"]\n",
    "for i in range(ndim):\n",
    "    ax = axes[i]\n",
    "    ax.plot(samples[:, :, i].T, \"k\", alpha=0.3)\n",
    "    ax.set_ylabel(labels[i])\n",
    "    ax.yaxis.set_label_coords(-0.1, 0.5)\n",
    "\n",
    "axes[-1].set_xlabel(\"step number\");\n",
    "plt.show()"
   ]
  },
  {
   "cell_type": "code",
   "execution_count": 16,
   "metadata": {
    "ExecuteTime": {
     "end_time": "2018-08-29T09:30:27.596609Z",
     "start_time": "2018-08-29T09:30:27.591354Z"
    },
    "collapsed": true
   },
   "outputs": [],
   "source": [
    "flat_samples = sampler.chain[:, 50:, :].reshape((-1, ndim))"
   ]
  },
  {
   "cell_type": "code",
   "execution_count": 17,
   "metadata": {
    "ExecuteTime": {
     "end_time": "2018-08-29T09:30:29.520503Z",
     "start_time": "2018-08-29T09:30:27.600521Z"
    }
   },
   "outputs": [
    {
     "name": "stderr",
     "output_type": "stream",
     "text": [
      "WARNING:root:Too few points to create valid contours\n",
      "WARNING:root:Too few points to create valid contours\n",
      "WARNING:root:Too few points to create valid contours\n"
     ]
    },
    {
     "data": {
      "text/plain": [
       "<matplotlib.figure.Figure at 0x11822b470>"
      ]
     },
     "metadata": {},
     "output_type": "display_data"
    },
    {
     "data": {
      "image/png": "[encoded data removed]",
      "text/plain": [
       "<matplotlib.figure.Figure at 0x11822b5c0>"
      ]
     },
     "metadata": {},
     "output_type": "display_data"
    }
   ],
   "source": [
    "# plt.figure()\n",
    "# fig = corner.corner(flat_samples, labels=[\"$m$\", \"$b$\"],\n",
    "#                       truths=[m_true, b_true])\n",
    "# plt.show()\n",
    "\n",
    "plt.figure()\n",
    "fig = corner.corner(flat_samples, labels=[\"$m$\", \"$b$\", \"$f$\"],\n",
    "                      truths=[m_true, b_true, f_true])\n",
    "plt.show()"
   ]
  },
  {
   "cell_type": "code",
   "execution_count": 18,
   "metadata": {
    "ExecuteTime": {
     "end_time": "2018-08-29T09:30:29.561672Z",
     "start_time": "2018-08-29T09:30:29.523087Z"
    }
   },
   "outputs": [
    {
     "data": {
      "text/latex": [
       "$$\\mathrm{m} = -0.002_{-0.000}^{0.000}$$"
      ],
      "text/plain": [
       "<IPython.core.display.Math object>"
      ]
     },
     "metadata": {},
     "output_type": "display_data"
    },
    {
     "data": {
      "text/latex": [
       "$$\\mathrm{b} = 2.865_{-0.000}^{0.000}$$"
      ],
      "text/plain": [
       "<IPython.core.display.Math object>"
      ]
     },
     "metadata": {},
     "output_type": "display_data"
    },
    {
     "data": {
      "text/latex": [
       "$$\\mathrm{f} = 136.665_{-0.000}^{0.000}$$"
      ],
      "text/plain": [
       "<IPython.core.display.Math object>"
      ]
     },
     "metadata": {},
     "output_type": "display_data"
    }
   ],
   "source": [
    "from IPython.display import display, Math\n",
    "results = []\n",
    "\n",
    "for i in range(ndim):\n",
    "    mcmc = np.percentile(flat_samples[:, i], [16, 50, 84])\n",
    "    results.append(mcmc)\n",
    "    q = np.diff(mcmc)\n",
    "    txt = \"\\mathrm{{{3}}} = {0:.3f}_{{-{1:.3f}}}^{{{2:.3f}}}\"\n",
    "    txt = txt.format(mcmc[1], q[0], q[1], labels[i])\n",
    "    display(Math(txt))"
   ]
  },
  {
   "cell_type": "code",
   "execution_count": 38,
   "metadata": {
    "ExecuteTime": {
     "end_time": "2018-08-23T08:34:35.470487Z",
     "start_time": "2018-08-23T08:34:35.041383Z"
    }
   },
   "outputs": [
    {
     "name": "stdout",
     "output_type": "stream",
     "text": [
      "9.10496297622e-05 0.304908732784\n"
     ]
    },
    {
     "data": {
      "image/png": "[encoded data removed]",
      "text/plain": [
       "<matplotlib.figure.Figure at 0x11d76d4e0>"
      ]
     },
     "metadata": {},
     "output_type": "display_data"
    }
   ],
   "source": [
    "plt.figure(figsize=(10,7))\n",
    "plt.plot(days, planets_etamb, 'bx')\n",
    "m = results[0][1]\n",
    "b = results[1][1]\n",
    "print(m, b)\n",
    "y = m*days/1000 + b\n",
    "plt.xlabel('days')\n",
    "plt.ylabel('planets main beam efficiency')\n",
    "plt.plot(days, y, '--', color='y')\n",
    "plt.show()"
   ]
  }
 ],
 "metadata": {
  "kernelspec": {
   "display_name": "Python 3",
   "language": "python",
   "name": "python3"
  },
  "language_info": {
   "codemirror_mode": {
    "name": "ipython",
    "version": 3
   },
   "file_extension": ".py",
   "mimetype": "text/x-python",
   "name": "python",
   "nbconvert_exporter": "python",
   "pygments_lexer": "ipython3",
   "version": "3.6.1"
  }
 },
 "nbformat": 4,
 "nbformat_minor": 2
}
