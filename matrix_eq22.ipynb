{
 "cells": [
  {
   "cell_type": "code",
   "execution_count": 1,
   "metadata": {
    "collapsed": true
   },
   "outputs": [],
   "source": [
    "import numpy as np\n",
    "import scipy.optimize as op\n",
    "import datetime\n",
    "import emcee\n",
    "import matplotlib.pyplot as plt\n",
    "import corner\n",
    "from scipy.stats import norm, halfnorm\n",
    "%matplotlib inline"
   ]
  },
  {
   "cell_type": "code",
   "execution_count": 2,
   "metadata": {
    "collapsed": true
   },
   "outputs": [],
   "source": [
    "mars = np.genfromtxt('harp_mars.dat', usecols=np.arange(0, 9))\n",
    "jupiter = np.genfromtxt('harp_jupiter.dat', usecols=np.arange(0, 8))\n",
    "uranus = np.genfromtxt('harp_uranus.dat', usecols=np.arange(0, 8))"
   ]
  },
  {
   "cell_type": "code",
   "execution_count": 3,
   "metadata": {
    "collapsed": true
   },
   "outputs": [],
   "source": [
    "mars_etamb = mars[:,5]\n",
    "jupiter_etamb = jupiter[:,5]\n",
    "uranus_etamb = uranus[:,5]\n",
    "\n",
    "mars_dates = mars[:,0]\n",
    "jupiter_dates = jupiter[:,0]\n",
    "uranus_dates = uranus[:,0]\n",
    "\n",
    "mars = mars[mars[:,1] > 5]\n",
    "mars = mars[mars[:,1] < 19]\n",
    "mars = mars[mars[:,5] > 0]\n",
    "jupiter = jupiter[jupiter[:,1] > 5]\n",
    "jupiter = jupiter[jupiter[:,1] < 19]\n",
    "jupiter = jupiter[jupiter[:,5] > 0]\n",
    "uranus = uranus[uranus[:,1] > 5]\n",
    "uranus = uranus[uranus[:,1] < 19]\n",
    "uranus = uranus[uranus[:,5] > 0]\n",
    "\n",
    "planets_etamb = np.concatenate((mars_etamb, jupiter_etamb, uranus_etamb), axis=0)\n",
    "raw_dates = np.concatenate((mars_dates, jupiter_dates, uranus_dates), axis=0)\n",
    "dates = [datetime.datetime.strptime(str(int(date)),'%Y%m%d') for date in raw_dates]"
   ]
  },
  {
   "cell_type": "code",
   "execution_count": 4,
   "metadata": {
    "collapsed": true
   },
   "outputs": [],
   "source": [
    "oldest = min(dates)\n",
    "days = np.array([np.float64((date - oldest).days) + 1 for date in dates])"
   ]
  },
  {
   "cell_type": "code",
   "execution_count": 5,
   "metadata": {
    "collapsed": true
   },
   "outputs": [],
   "source": [
    "m_true = 0.0\n",
    "b_true = .5\n",
    "\n",
    "lnyerr_true = -2.3\n",
    "lnV_true = -1.6\n",
    "lnbias_true = -1.6"
   ]
  },
  {
   "cell_type": "code",
   "execution_count": 36,
   "metadata": {
    "collapsed": true
   },
   "outputs": [],
   "source": [
    "# adapted code from http://code.activestate.com/recipes/189971-basic-linear-algebra-matrix/\n",
    "def minor(matrix, i, j):\n",
    "    #input should be numpy matrix\n",
    "    matrix = np.asarray(matrix)\n",
    "    m = np.zeros((matrix.shape[0]-1, matrix.shape[1]-1))\n",
    "    m = np.matrix(m)\n",
    "    # loop through the matrix, skipping over the row and column specified by i and j\n",
    "    minor_row = minor_col = 0\n",
    "    for row in range(matrix.shape[0]):\n",
    "        if not row == i: # skip row i\n",
    "            for col in range(matrix.shape[1]):\n",
    "                if not col == j: # skip column j\n",
    "                    m[(minor_row, minor_col)] = matrix[(row, col)]\n",
    "                    minor_col += 1\n",
    "            minor_col = 0\n",
    "            minor_row += 1\n",
    "    return m"
   ]
  },
  {
   "cell_type": "code",
   "execution_count": 39,
   "metadata": {},
   "outputs": [],
   "source": [
    "def lnlike(theta, x, y):\n",
    "    m, b, delty1, delty2, sigsq1, sigsq2, a1 = theta\n",
    "    a2 = 1.0 - a1\n",
    "    #number in variable name is the gaussian j\n",
    "\n",
    "    y_mod1 = m*x + b - delt1\n",
    "    y_mod2 = m*x + b - delt2\n",
    "    chisq1 = sigsq1 * np.dot(y-y_mod1, y-y_mod1)\n",
    "    minor_chisq1 = \n",
    "    chisq2 = sigsq2 * np.dot(y-y_mod2, y-y_mod2)\n",
    "    minor_chisq2 = \n",
    "    H = [np.exp(-chisq1/2), np.exp(-chisq2/2)]\n",
    "    \n",
    "    "
   ]
  },
  {
   "cell_type": "code",
   "execution_count": null,
   "metadata": {
    "collapsed": true
   },
   "outputs": [],
   "source": []
  }
 ],
 "metadata": {
  "kernelspec": {
   "display_name": "Python 3",
   "language": "python",
   "name": "python3"
  },
  "language_info": {
   "codemirror_mode": {
    "name": "ipython",
    "version": 3
   },
   "file_extension": ".py",
   "mimetype": "text/x-python",
   "name": "python",
   "nbconvert_exporter": "python",
   "pygments_lexer": "ipython3",
   "version": "3.6.1"
  }
 },
 "nbformat": 4,
 "nbformat_minor": 2
}
