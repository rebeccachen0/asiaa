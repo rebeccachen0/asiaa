{
 "cells": [
  {
   "cell_type": "code",
   "execution_count": 2,
   "metadata": {
    "ExecuteTime": {
     "end_time": "2018-08-22T02:53:23.519226Z",
     "start_time": "2018-08-22T02:53:20.893928Z"
    },
    "collapsed": true
   },
   "outputs": [],
   "source": [
    "import numpy as np\n",
    "import datetime\n",
    "import matplotlib.pyplot as plt\n",
    "from scipy.stats import norm, halfnorm, kstest, ks_2samp, wilcoxon, mannwhitneyu, probplot, expon\n",
    "from scipy.optimize import curve_fit\n",
    "import pickle\n",
    "from statsmodels.graphics.gofplots import qqplot_2samples\n",
    "import operator"
   ]
  },
  {
   "cell_type": "code",
   "execution_count": 3,
   "metadata": {
    "ExecuteTime": {
     "end_time": "2018-08-22T02:53:23.541622Z",
     "start_time": "2018-08-22T02:53:23.522293Z"
    },
    "collapsed": true
   },
   "outputs": [],
   "source": [
    "mars = np.genfromtxt('data/harp_mars.dat', usecols=np.arange(0, 9))\n",
    "jupiter = np.genfromtxt('data/harp_jupiter.dat', usecols=np.arange(0, 8))\n",
    "uranus = np.genfromtxt('data/harp_uranus.dat', usecols=np.arange(0, 8))"
   ]
  },
  {
   "cell_type": "code",
   "execution_count": 4,
   "metadata": {
    "ExecuteTime": {
     "end_time": "2018-08-22T02:53:23.566571Z",
     "start_time": "2018-08-22T02:53:23.544382Z"
    },
    "collapsed": true
   },
   "outputs": [],
   "source": [
    "mars_unc = np.genfromtxt('data/harp_mars_unc.dat')\n",
    "jupiter_unc = np.genfromtxt('data/harp_jupiter_unc.dat')\n",
    "uranus_unc = np.genfromtxt('data/harp_uranus_unc.dat')\n",
    "planets_unc = np.concatenate((mars_unc[:,9], jupiter_unc[:,8], uranus_unc[:,8]), axis=0)"
   ]
  },
  {
   "cell_type": "code",
   "execution_count": 5,
   "metadata": {
    "ExecuteTime": {
     "end_time": "2018-08-22T02:53:23.579405Z",
     "start_time": "2018-08-22T02:53:23.569347Z"
    }
   },
   "outputs": [
    {
     "name": "stdout",
     "output_type": "stream",
     "text": [
      "0.102780674017\n"
     ]
    }
   ],
   "source": [
    "yerr = np.mean(planets_unc[planets_unc!=0])\n",
    "print(yerr)"
   ]
  },
  {
   "cell_type": "code",
   "execution_count": 6,
   "metadata": {
    "ExecuteTime": {
     "end_time": "2018-08-22T02:53:23.724227Z",
     "start_time": "2018-08-22T02:53:23.665388Z"
    },
    "collapsed": true
   },
   "outputs": [],
   "source": [
    "mars_etamb = mars[:,5]\n",
    "jupiter_etamb = jupiter[:,5]\n",
    "uranus_etamb = uranus[:,5]\n",
    "\n",
    "mars_dates = mars[:,0]\n",
    "jupiter_dates = jupiter[:,0]\n",
    "uranus_dates = uranus[:,0]\n",
    "\n",
    "mars = mars[mars[:,1] > 5]\n",
    "mars = mars[mars[:,1] < 19]\n",
    "mars = mars[mars[:,5] > 0]\n",
    "jupiter = jupiter[jupiter[:,1] > 5]\n",
    "jupiter = jupiter[jupiter[:,1] < 19]\n",
    "jupiter = jupiter[jupiter[:,5] > 0]\n",
    "uranus = uranus[uranus[:,1] > 5]\n",
    "uranus = uranus[uranus[:,1] < 19]\n",
    "uranus = uranus[uranus[:,5] > 0]\n",
    "\n",
    "planets_etamb = np.concatenate((mars_etamb, jupiter_etamb, uranus_etamb), axis=0)\n",
    "raw_dates = np.concatenate((mars_dates, jupiter_dates, uranus_dates), axis=0)\n",
    "dates = [datetime.datetime.strptime(str(int(date)),'%Y%m%d') for date in raw_dates]"
   ]
  },
  {
   "cell_type": "code",
   "execution_count": 7,
   "metadata": {
    "ExecuteTime": {
     "end_time": "2018-08-22T02:53:23.740426Z",
     "start_time": "2018-08-22T02:53:23.728688Z"
    },
    "collapsed": true
   },
   "outputs": [],
   "source": [
    "oldest = min(dates)\n",
    "days = np.array([np.float64((date - oldest).days) + 1 for date in dates])"
   ]
  },
  {
   "cell_type": "code",
   "execution_count": 8,
   "metadata": {
    "ExecuteTime": {
     "end_time": "2018-08-22T02:53:23.773246Z",
     "start_time": "2018-08-22T02:53:23.748503Z"
    },
    "collapsed": true
   },
   "outputs": [],
   "source": [
    "def draw_samp(x, m, b, yerr_mu, yerr_sig, bias_mu, bias_sig, rel):\n",
    "    result = []\n",
    "    yerr = np.random.normal(yerr_mu, yerr_sig, size = len(x))\n",
    "#     scatter = np.random.normal(scatter_mu, scatter_sig, size = len(x))\n",
    "    bias = expon.rvs(bias_mu, bias_sig, size = len(x))\n",
    "#         print(yerr, scatter, bias)\n",
    "    result = yerr - rel*bias + (m*x + b)\n",
    "    return np.array(result)"
   ]
  },
  {
   "cell_type": "code",
   "execution_count": 9,
   "metadata": {
    "ExecuteTime": {
     "end_time": "2018-08-22T02:53:23.828452Z",
     "start_time": "2018-08-22T02:53:23.778665Z"
    }
   },
   "outputs": [
    {
     "name": "stdout",
     "output_type": "stream",
     "text": [
      "[ 0.06436276  0.05808303  0.0033424   0.03461556  0.10549646  0.00892358\n",
      "  0.09289839  0.00046574  0.00971489  0.05387111]\n"
     ]
    }
   ],
   "source": [
    "print(expon.rvs(0.0, .1, size=10))"
   ]
  },
  {
   "cell_type": "code",
   "execution_count": 10,
   "metadata": {
    "ExecuteTime": {
     "end_time": "2018-08-22T02:53:23.868322Z",
     "start_time": "2018-08-22T02:53:23.832812Z"
    },
    "collapsed": true
   },
   "outputs": [],
   "source": [
    "def draw_samp_yerrfix(x, m, b, yerr, bias_mu, bias_sig, rel):\n",
    "    result = []\n",
    "    bias = expon.rvs(bias_mu, bias_sig, size = len(x))\n",
    "    result = yerr - rel*bias + (m*x + b)\n",
    "    return np.array(result)"
   ]
  },
  {
   "cell_type": "code",
   "execution_count": 11,
   "metadata": {
    "ExecuteTime": {
     "end_time": "2018-08-22T02:53:23.916636Z",
     "start_time": "2018-08-22T02:53:23.884804Z"
    },
    "collapsed": true
   },
   "outputs": [],
   "source": [
    "def draw_samp_yerrfix_halfnorm(x, m, b, yerr, bias_mu, bias_sig, rel):\n",
    "    result = []\n",
    "    bias = halfnorm.rvs(bias_mu, bias_sig, size = len(x))\n",
    "    result = yerr - rel*bias + (m*x + b)\n",
    "    return np.array(result)"
   ]
  },
  {
   "cell_type": "code",
   "execution_count": 12,
   "metadata": {
    "ExecuteTime": {
     "end_time": "2018-08-22T02:53:23.929508Z",
     "start_time": "2018-08-22T02:53:23.920103Z"
    },
    "collapsed": true
   },
   "outputs": [],
   "source": [
    "sample = draw_samp_yerrfix_halfnorm(days, 0.0, .55, .1, 0.0, .3, 1.0)\n",
    "sample2 = draw_samp_yerrfix(days, 0.0, .55, .1, 0.0, .35, 1.0)"
   ]
  },
  {
   "cell_type": "code",
   "execution_count": 13,
   "metadata": {
    "ExecuteTime": {
     "end_time": "2018-08-22T02:53:24.430392Z",
     "start_time": "2018-08-22T02:53:23.934687Z"
    }
   },
   "outputs": [
    {
     "data": {
      "image/png": "[encoded data removed]",
      "text/plain": [
       "<matplotlib.figure.Figure at 0x114812320>"
      ]
     },
     "metadata": {},
     "output_type": "display_data"
    }
   ],
   "source": [
    "sort_y = np.sort(planets_etamb)\n",
    "p = np.linspace(0, 1, len(planets_etamb))\n",
    "data_CDF = lambda x: np.interp(x, sort_y, p)\n",
    "\n",
    "#plotting CDF of data vs CDF of sample dataset\n",
    "plt.figure()\n",
    "plt.plot(np.sort(sample), p, label='sample halfnorm')\n",
    "plt.plot(np.sort(sample2), p, label='sample exp')\n",
    "plt.plot(sort_y, p, label='data', color='k')\n",
    "plt.legend(loc='upper left')\n",
    "plt.show()"
   ]
  },
  {
   "cell_type": "code",
   "execution_count": 14,
   "metadata": {
    "ExecuteTime": {
     "end_time": "2018-08-22T02:53:24.809039Z",
     "start_time": "2018-08-22T02:53:24.433922Z"
    }
   },
   "outputs": [
    {
     "data": {
      "text/plain": [
       "<matplotlib.figure.Figure at 0x11483a780>"
      ]
     },
     "metadata": {},
     "output_type": "display_data"
    },
    {
     "data": {
      "image/png": "[encoded data removed]",
      "text/plain": [
       "<matplotlib.figure.Figure at 0x116e785c0>"
      ]
     },
     "metadata": {},
     "output_type": "display_data"
    }
   ],
   "source": [
    "#qq plot for real data and \"optimal param\" data\n",
    "plt.figure(1)\n",
    "qqplot_2samples(planets_etamb, sample2)\n",
    "plt.plot(np.linspace(0.0,1.0),np.linspace(0.0,1.0))\n",
    "plt.show()"
   ]
  },
  {
   "cell_type": "code",
   "execution_count": 15,
   "metadata": {
    "ExecuteTime": {
     "end_time": "2018-08-22T02:53:24.830850Z",
     "start_time": "2018-08-22T02:53:24.812427Z"
    },
    "collapsed": true
   },
   "outputs": [],
   "source": [
    "def calc1000tests(m, b, yerr_mu, yerr_sig, bias_mu, bias_sig, rel):\n",
    "    ks_stats = [] #each has 1000 test stats, corresponding to one set of params\n",
    "    mwu_stats = []\n",
    "    wilcoxon_stats = []\n",
    "    ks_pv = [] #each has 1000 p-values, corresponding to one set of params\n",
    "    mwu_pv = []\n",
    "    wilcoxon_pv = []\n",
    "    samples = []\n",
    "    for i in range(1000):\n",
    "        trial = draw_samp(days, m, b, yerr_mu, yerr_sig, bias_mu, bias_sig, rel)\n",
    "        samples.append(trial)\n",
    "        stat = ks_2samp(planets_etamb, trial)\n",
    "        ks_stats.append(stat[0])\n",
    "        ks_pv.append(stat[1])\n",
    "        stat = mannwhitneyu(planets_etamb, trial, alternative = 'two-sided')\n",
    "        mwu_stats.append(stat[0])\n",
    "        mwu_pv.append(stat[1])\n",
    "        stat = wilcoxon(planets_etamb, trial)\n",
    "        wilcoxon_stats.append(stat[0])\n",
    "        wilcoxon_pv.append(stat[1])\n",
    "        \n",
    "    return samples, ks_stats, mwu_stats, wilcoxon_stats, ks_pv, mwu_pv, wilcoxon_pv"
   ]
  },
  {
   "cell_type": "code",
   "execution_count": 16,
   "metadata": {
    "ExecuteTime": {
     "end_time": "2018-08-22T02:53:24.883867Z",
     "start_time": "2018-08-22T02:53:24.833654Z"
    },
    "collapsed": true
   },
   "outputs": [],
   "source": [
    "def calc1000tests_yerrfix(m, b, yerr, bias_mu, bias_sig, rel):\n",
    "    ks_stats = [] #each has 1000 test stats, corresponding to one set of params\n",
    "    mwu_stats = []\n",
    "    wilcoxon_stats = []\n",
    "    ks_pv = [] #each has 1000 p-values, corresponding to one set of params\n",
    "    mwu_pv = []\n",
    "    wilcoxon_pv = []\n",
    "    samples = []\n",
    "    for i in range(1000):\n",
    "        trial = draw_samp_yerrfix(days, m, b, yerr, bias_mu, bias_sig, rel)\n",
    "        samples.append(trial)\n",
    "        stat = ks_2samp(planets_etamb, trial)\n",
    "        ks_stats.append(stat[0])\n",
    "        ks_pv.append(stat[1])\n",
    "        stat = mannwhitneyu(planets_etamb, trial, alternative = 'two-sided')\n",
    "        mwu_stats.append(stat[0])\n",
    "        mwu_pv.append(stat[1])\n",
    "        stat = wilcoxon(planets_etamb, trial)\n",
    "        wilcoxon_stats.append(stat[0])\n",
    "        wilcoxon_pv.append(stat[1])\n",
    "        \n",
    "    return samples, ks_stats, mwu_stats, wilcoxon_stats, ks_pv, mwu_pv, wilcoxon_pv"
   ]
  },
  {
   "cell_type": "code",
   "execution_count": 17,
   "metadata": {
    "ExecuteTime": {
     "end_time": "2018-08-22T02:53:26.870452Z",
     "start_time": "2018-08-22T02:53:24.887895Z"
    },
    "collapsed": true,
    "scrolled": true
   },
   "outputs": [],
   "source": [
    "test_m = 0.0\n",
    "test_b = .61\n",
    "# test_yerr_mu = 0.0\n",
    "# test_yerr_sig = .005\n",
    "# test_bias_mu = 0.0\n",
    "test_bias_sig = .08125\n",
    "test_rel = 1.0\n",
    "samples, stats_ks, stats_mwu, stats_w, pvals_ks, pvals_mwu, pvals_w = calc1000tests(test_m, test_b, 0.0, 0.1, 0.0, test_bias_sig, test_rel)"
   ]
  },
  {
   "cell_type": "code",
   "execution_count": 18,
   "metadata": {
    "ExecuteTime": {
     "end_time": "2018-08-22T03:09:58.004777Z",
     "start_time": "2018-08-22T02:53:26.872619Z"
    },
    "collapsed": true
   },
   "outputs": [],
   "source": [
    "#set range of params to test\n",
    "num_trials = 5\n",
    "m = np.linspace(-.001, .001, num=num_trials)\n",
    "b = np.linspace(.55, .59, num=num_trials)\n",
    "bias_sig = np.linspace(0.33, .37, num=num_trials)\n",
    "rel = np.linspace(.38, .52, num=num_trials)\n",
    "\n",
    "#generate all test statistics, version without yerr and with rel\n",
    "a, B, c, d = np.meshgrid(m, b, bias_sig, rel)\n",
    "arr = np.stack((np.ravel(a), np.ravel(B), np.ravel(c), np.ravel(d)), axis=-1)\n",
    "\n",
    "full_results = {}\n",
    "for i in arr:\n",
    "    samples, stats_ks, stats_mwu, stats_w, pvals_ks, pvals_mwu, pvals_w = calc1000tests_yerrfix(i[0], i[1], yerr, 0.0, i[2], i[3]) #each an array of 1000 pvals\n",
    "    full_results[str(i)] = [samples, [stats_ks, pvals_ks], [stats_mwu, pvals_mwu], [stats_w, pvals_w]]"
   ]
  },
  {
   "cell_type": "code",
   "execution_count": 19,
   "metadata": {
    "ExecuteTime": {
     "end_time": "2018-08-22T03:09:58.036805Z",
     "start_time": "2018-08-22T03:09:58.013474Z"
    }
   },
   "outputs": [
    {
     "name": "stdout",
     "output_type": "stream",
     "text": [
      "[-0.001  -0.0005  0.      0.0005  0.001 ]\n",
      "[ 0.4   0.55  0.7   0.85  1.  ]\n",
      "[ 0.1    0.325  0.55   0.775  1.   ]\n",
      "[ 0.01    0.5075  1.005   1.5025  2.    ]\n"
     ]
    }
   ],
   "source": [
    "print(np.linspace(-.001, .001, num=5))\n",
    "print(np.linspace(.4, 1.0, num=5))\n",
    "print(np.linspace(.1, 1.0, num=5))\n",
    "print(np.linspace(.01, 2.0, num=5))"
   ]
  },
  {
   "cell_type": "code",
   "execution_count": null,
   "metadata": {
    "ExecuteTime": {
     "start_time": "2018-08-22T02:53:24.728Z"
    }
   },
   "outputs": [
    {
     "name": "stdout",
     "output_type": "stream",
     "text": [
      "[ -1.00000000e-03  -8.18181818e-04  -6.36363636e-04  -4.54545455e-04\n",
      "  -2.72727273e-04  -9.09090909e-05   9.09090909e-05   2.72727273e-04\n",
      "   4.54545455e-04   6.36363636e-04   8.18181818e-04   1.00000000e-03]\n"
     ]
    }
   ],
   "source": [
    "print(np.linspace(-.001, .001, num=12))"
   ]
  },
  {
   "cell_type": "code",
   "execution_count": null,
   "metadata": {
    "ExecuteTime": {
     "start_time": "2018-08-22T02:53:25.008Z"
    },
    "collapsed": true
   },
   "outputs": [],
   "source": [
    "m = np.linspace(-.001, .001, num=3)\n",
    "b = np.linspace(.5, .8, num=3)\n",
    "yerr_sig = np.linspace(0.01, .1, num=5)\n",
    "bias_sig = np.linspace(0.1, .7, num=3)\n",
    "rel = np.linspace(1.0, 1.5, num=3)\n",
    "\n",
    "#generate all test statistics, version with yerr and with rel\n",
    "e, f, g, h, i = np.meshgrid(m, b, yerr_sig, bias_sig, rel)\n",
    "arr = np.stack((np.ravel(e), np.ravel(f), np.ravel(g), np.ravel(h), np.ravel(i)), axis=-1)\n",
    "\n",
    "full_results_test = {}\n",
    "for i in arr:\n",
    "    samples, stats_ks, stats_mwu, stats_w, pvals_ks, pvals_mwu, pvals_w = calc1000tests(i[0], i[1], 0.0, i[2], 0.0, i[3], i[4]) #each an array of 1000 pvals\n",
    "    full_results_test[str(i)] = [samples, [stats_ks, pvals_ks], [stats_mwu, pvals_mwu], [stats_w, pvals_w]]"
   ]
  },
  {
   "cell_type": "code",
   "execution_count": null,
   "metadata": {
    "ExecuteTime": {
     "start_time": "2018-08-22T02:53:25.297Z"
    }
   },
   "outputs": [],
   "source": [
    "#checking yerr\n",
    "tlowest_ks = np.inf\n",
    "for params, arr in full_results_test.items():\n",
    "    tcounts_ks, tbins_ks= np.histogram(arr[1][0], bins=100)\n",
    "    tmu_ks, tstd_ks = norm.fit(arr[1][0])\n",
    "    tcurr_samples = arr[0] #array of 1000 arrays of 550 values, 1000 sampled datasets\n",
    "    if tmu_ks != 0 and tmu_ks < tlowest_ks:\n",
    "        tlowest_ks = tmu_ks\n",
    "        tlowest_ks_std = tstd_ks\n",
    "        tlowest_params_ks = params\n",
    "        tp_vals_ks = arr[1][1]\n",
    "        tstats_ks = arr[1][0]\n",
    "        tsamples_ks = tcurr_samples\n",
    "print(tlowest_ks, np.mean(tp_vals_ks), tlowest_params_ks)"
   ]
  },
  {
   "cell_type": "code",
   "execution_count": null,
   "metadata": {
    "ExecuteTime": {
     "start_time": "2018-08-22T02:53:25.521Z"
    }
   },
   "outputs": [],
   "source": [
    "#hist for all w test stats\n",
    "all_stats = []\n",
    "for param, tests in full_results.items():\n",
    "    if (np.max(tests[3][0]) < 10000 ):\n",
    "        all_stats.append(tests[3][0])\n",
    "flat_list = [item for sublist in all_stats for item in sublist]\n",
    "plt.figure()\n",
    "plt.hist(flat_list, bins=50)\n",
    "plt.show()"
   ]
  },
  {
   "cell_type": "code",
   "execution_count": null,
   "metadata": {
    "ExecuteTime": {
     "start_time": "2018-08-22T02:53:25.769Z"
    }
   },
   "outputs": [],
   "source": [
    "#hist for all ks test stats\n",
    "all_stats = []\n",
    "for param, tests in full_results.items():\n",
    "    all_stats.append(tests[1][0])\n",
    "flat_list = [item for sublist in all_stats for item in sublist]\n",
    "plt.figure()\n",
    "plt.hist(flat_list, bins=50)\n",
    "plt.show()"
   ]
  },
  {
   "cell_type": "code",
   "execution_count": null,
   "metadata": {
    "ExecuteTime": {
     "start_time": "2018-08-22T02:53:25.961Z"
    },
    "collapsed": true
   },
   "outputs": [],
   "source": [
    "#print w stat and p value distributions based on restriction\n",
    "for param, tests in full_results.items():\n",
    "    if np.mean(tests[3][1])>.3: #looking at high mean p-values\n",
    "        print(param, np.mean(tests[3][1]))\n",
    "        plt.figure()\n",
    "        plt.hist(tests[3][0], bins=100, normed=True)\n",
    "        mu, std = norm.fit(tests[3][0])\n",
    "        xmin, xmax = plt.xlim()\n",
    "        x = np.linspace(xmin, xmax, 100)\n",
    "        y = norm.pdf(x, mu, std)\n",
    "        plt.plot(x, y)\n",
    "        plt.figure()\n",
    "        plt.hist(tests[3][1], bins=100)\n",
    "        plt.show()"
   ]
  },
  {
   "cell_type": "code",
   "execution_count": null,
   "metadata": {
    "ExecuteTime": {
     "start_time": "2018-08-22T02:53:26.217Z"
    }
   },
   "outputs": [],
   "source": [
    "sort_y = np.sort(planets_etamb)\n",
    "p = np.linspace(0, 1, len(planets_etamb))\n",
    "data_CDF = lambda x: np.interp(x, sort_y, p)\n",
    "plt.figure(1)\n",
    "#find lowest peak of histogram for each test\n",
    "lowest_ks = np.inf\n",
    "lowest_mwu = np.inf\n",
    "lowest_w = np.inf\n",
    "stat_num = 0 #0-test stats 1-p-values\n",
    "for params, arr in full_results.items():\n",
    "    counts_ks, bins_ks= np.histogram(arr[1][stat_num], bins=100)\n",
    "    mu_ks, std_ks = norm.fit(arr[1][stat_num])\n",
    "#     counts_mwu, bins_mwu = np.histogram(arr[2][stat_num], bins=100)\n",
    "#     mu_mwu, std_mwu = norm.fit(arr[2][stat_num])\n",
    "    counts_w, bins_w = np.histogram(arr[3][stat_num], bins=100)\n",
    "    mu_w, std_w = norm.fit(arr[3][stat_num])\n",
    "    curr_samples = arr[0] #array of 1000 arrays of 550 values, 1000 sampled datasets\n",
    "    plt.plot(np.sort(curr_samples[np.random.randint(0, 1000)]), p)\n",
    "    if mu_ks != 0 and mu_ks < lowest_ks:\n",
    "        lowest_ks = mu_ks\n",
    "        lowest_ks_std = std_ks\n",
    "        lowest_params_ks = params\n",
    "        p_vals_ks = arr[1][1]\n",
    "        stats_ks = arr[1][0]\n",
    "        samples_ks = curr_samples\n",
    "#     if mu_mwu != 0 and mu_mwu < lowest_mwu:\n",
    "#         lowest_mwu = mu_mwu\n",
    "#         lowest_mwu_std = std_mwu\n",
    "#         lowest_params_mwu = params\n",
    "#         p_vals_mwu = arr[2][1]\n",
    "#         stats_mwu = arr[2][0]\n",
    "#         samples_mwu = curr_samples\n",
    "    if mu_w > 0.0 and mu_w < lowest_w: # looking at lowest mu that still passes a threshold\n",
    "        lowest_w = mu_w\n",
    "        lowest_w_std = std_w\n",
    "        lowest_params_w = params\n",
    "        p_vals_w = arr[3][1]\n",
    "        stats_w = arr[3][0]\n",
    "        samples_w = curr_samples\n",
    "print(lowest_ks, np.mean(p_vals_ks), lowest_params_ks)\n",
    "print(lowest_w, np.mean(p_vals_w), lowest_params_w)\n",
    "plt.plot(sort_y, p, label='data', lw='3.0', color=\"k\")\n",
    "plt.legend(loc='upper left')\n",
    "plt.show()\n",
    "#index_ks, value_ks = max(enumerate(counts_ks), key=operator.itemgetter(1))\n",
    "#bins_ks[index_ks] + bins_ks[index_ks+1])/2.0"
   ]
  },
  {
   "cell_type": "code",
   "execution_count": null,
   "metadata": {
    "ExecuteTime": {
     "start_time": "2018-08-22T02:53:26.555Z"
    }
   },
   "outputs": [],
   "source": [
    "sample1 = draw_samp_yerrfix(days, 0.0, .55, .1, 0.0, 1.005, 1.0)\n",
    "sample2 = draw_samp_yerrfix(days, 0.0, .55, .1, 0.0, .25, .5)\n",
    "sample3 = draw_samp_yerrfix(days, 0.0, .55, .1, 0.0, .33, .375)\n",
    "sample4 = draw_samp_yerrfix(days, 0.0, .57, .1, 0.0, .35, .445)\n",
    "sample5 = draw_samp_yerrfix(days, 0.0, .56, .1, 0.0, .36, .38)\n",
    "# sample_byeye = draw_samp_yerrfix(days, 0.0, .55, .1, 0.0, .35, 1.0)\n",
    "# sample_yerr = draw_samp(days, 0.0, .65, 0.0, .0325, 0.0, .1, 1.25)\n",
    "\n",
    "sort_y = np.sort(planets_etamb)\n",
    "p = np.linspace(0, 1, len(planets_etamb))\n",
    "data_CDF = lambda x: np.interp(x, sort_y, p)\n",
    "\n",
    "#plotting CDF of data vs CDF of sample dataset\n",
    "plt.figure()\n",
    "plt.plot(sort_y, p, label='data')\n",
    "# plt.plot(np.sort(sample1), p, label='1')\n",
    "# plt.plot(np.sort(sample2), p, label='2')\n",
    "# plt.plot(np.sort(sample3), p, label='3')\n",
    "# plt.plot(np.sort(sample4), p, label='4')\n",
    "plt.plot(np.sort(sample5), p, label='5')\n",
    "# plt.plot(np.sort(sample_byeye), p, label='eye')\n",
    "# plt.plot(np.sort(sample_yerr), p, label='yerr')\n",
    "plt.legend(loc='upper left')\n",
    "plt.show()"
   ]
  },
  {
   "cell_type": "code",
   "execution_count": null,
   "metadata": {
    "ExecuteTime": {
     "start_time": "2018-08-22T02:53:26.884Z"
    }
   },
   "outputs": [],
   "source": [
    "plt.figure()\n",
    "plt.hist(stats_ks, bins=100, normed=True)\n",
    "mu, std = norm.fit(stats_ks)\n",
    "xmin, xmax = plt.xlim()\n",
    "x = np.linspace(xmin, xmax, 100)\n",
    "y = norm.pdf(x, mu, std)\n",
    "plt.plot(x, y)\n",
    "plt.figure()\n",
    "plt.hist(p_vals_ks, bins=100)\n",
    "plt.show()"
   ]
  },
  {
   "cell_type": "code",
   "execution_count": null,
   "metadata": {
    "ExecuteTime": {
     "start_time": "2018-08-22T02:53:27.203Z"
    },
    "scrolled": true
   },
   "outputs": [],
   "source": [
    "test_num = 1 # 1-ks 2-mwu 3-wilcoxon\n",
    "stat_num = 0 #0-test stats 1-p-values\n",
    "count = 0\n",
    "for params, arr in full_results.items():\n",
    "    mu, std = norm.fit(arr[test_num][stat_num])\n",
    "    if count<10:\n",
    "        plt.figure()\n",
    "        counts, bins, patches = plt.hist(arr[test_num][stat_num], bins=100)\n",
    "        plt.show()\n",
    "        plt.figure()\n",
    "#         plt.hist(arr[test_num][1], bins=100)\n",
    "#         index, value = max(enumerate(counts), key=operator.itemgetter(1))\n",
    "#         print(\"max value: \", (bins[index] + bins[index+1])/2.0) \n",
    "#         print(\"mean value: \", np.mean(arr[test_num][stat_num]))\n",
    "        print(mu)\n",
    "        plt.show()\n",
    "        count+=1"
   ]
  },
  {
   "cell_type": "code",
   "execution_count": null,
   "metadata": {
    "ExecuteTime": {
     "start_time": "2018-08-22T02:53:27.504Z"
    }
   },
   "outputs": [],
   "source": [
    "#two methods of plotting CDF (true dataset)\n",
    "sort_y = np.sort(planets_etamb)\n",
    "p = np.linspace(0, 1, len(planets_etamb))\n",
    "data_CDF = lambda x: np.interp(x, sort_y, p)\n",
    "\n",
    "plt.figure(1)\n",
    "plt.plot(sort_y, p)\n",
    "plt.show()\n",
    "\n",
    "plt.figure(2)\n",
    "num_bins = len(planets_etamb)\n",
    "counts, bin_edges = np.histogram (planets_etamb, bins=num_bins, normed=True)\n",
    "cdf = np.cumsum (counts)\n",
    "plt.plot (bin_edges[1:], cdf/cdf[-1])\n",
    "plt.show()"
   ]
  },
  {
   "cell_type": "code",
   "execution_count": null,
   "metadata": {
    "ExecuteTime": {
     "start_time": "2018-08-22T02:53:27.794Z"
    }
   },
   "outputs": [],
   "source": [
    "#plotting p value distribution and CDF of the p values\n",
    "f, axarr = plt.subplots(6, figsize=(10, 7))\n",
    "axarr[0].hist(p_vals_ks, bins=30)\n",
    "axarr[0].set_title('Best param p-value dist')\n",
    "axarr[1].hist(p_vals_mwu, bins=100)\n",
    "axarr[2].hist(p_vals_w, bins=100)\n",
    "ks = np.sort(p_vals_ks)\n",
    "mwu = np.sort(p_vals_mwu)\n",
    "w = np.sort(p_vals_w)\n",
    "prob = np.linspace(0, 1, len(p_vals_w))\n",
    "axarr[3].plot(ks, prob)\n",
    "axarr[4].plot(mwu, prob)\n",
    "axarr[5].plot(w, prob)\n",
    "plt.show()"
   ]
  },
  {
   "cell_type": "code",
   "execution_count": null,
   "metadata": {
    "ExecuteTime": {
     "start_time": "2018-08-22T02:53:28.129Z"
    }
   },
   "outputs": [],
   "source": [
    "mu, std = norm.fit(stats_w)\n",
    "print(mu, std)\n",
    "hist1, counts1, patches1 = plt.hist(stats_w, bins=30, normed=True)\n",
    "index1, value1 = max(enumerate(counts1), key=operator.itemgetter(1))\n",
    "print(mu, value1)\n",
    "xmin, xmax = plt.xlim()\n",
    "x = np.linspace(xmin, xmax, 100)\n",
    "y = norm.pdf(x, mu, std)\n",
    "plt.plot(x, y)\n",
    "plt.show()"
   ]
  },
  {
   "cell_type": "code",
   "execution_count": null,
   "metadata": {
    "ExecuteTime": {
     "start_time": "2018-08-22T02:53:28.425Z"
    }
   },
   "outputs": [],
   "source": [
    "print(np.sum(planets_etamb-sample))"
   ]
  },
  {
   "cell_type": "code",
   "execution_count": 86,
   "metadata": {
    "ExecuteTime": {
     "end_time": "2018-08-07T04:11:45.834185Z",
     "start_time": "2018-08-07T04:11:29.095613Z"
    },
    "collapsed": true
   },
   "outputs": [],
   "source": [
    "#to save results dictionary REMEMBER TO RENAME\n",
    "pickle.dump(results, open(\".p\", \"wb\"))\n",
    "#to read back in\n",
    "#arr = pickle.load( open( \"kstest_5param_5.p\", \"rb\" ) )"
   ]
  },
  {
   "cell_type": "code",
   "execution_count": null,
   "metadata": {
    "collapsed": true
   },
   "outputs": [],
   "source": []
  }
 ],
 "metadata": {
  "kernelspec": {
   "display_name": "Python 3",
   "language": "python",
   "name": "python3"
  },
  "language_info": {
   "codemirror_mode": {
    "name": "ipython",
    "version": 3
   },
   "file_extension": ".py",
   "mimetype": "text/x-python",
   "name": "python",
   "nbconvert_exporter": "python",
   "pygments_lexer": "ipython3",
   "version": "3.6.1"
  }
 },
 "nbformat": 4,
 "nbformat_minor": 2
}
